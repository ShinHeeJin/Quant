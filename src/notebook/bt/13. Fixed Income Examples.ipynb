{
 "cells": [
  {
   "cell_type": "markdown",
   "metadata": {},
   "source": [
    "\n",
    "### [Fixed Income Examples]((https://pmorissette.github.io/bt/examples.html#:~:text=each%20transaction%20marked.-,Fixed%20Income%20Examples,-This%20example%20notebook))\n"
   ]
  },
  {
   "cell_type": "code",
   "execution_count": 1,
   "metadata": {},
   "outputs": [],
   "source": [
    "import bt\n",
    "import pandas as pd\n",
    "from pandas.tseries.frequencies import to_offset\n",
    "import numpy as np\n",
    "import warnings\n",
    "\n",
    "warnings.simplefilter(action=\"ignore\")\n",
    "np.random.seed(1234)\n",
    "%matplotlib inline"
   ]
  },
  {
   "cell_type": "markdown",
   "metadata": {},
   "source": [
    "### PVBP\n",
    "- 채권의 가격이 금리가 1 베이시스 포인트(basis point, 0.01%) 변동할 때 얼마나 변하는지를 측정하는 지표\n",
    "- 채권 가격의 금리 민감도를 나타내는 개념\n",
    "- 금리 변동에 따른 채권의 가치 변화를 이해하는데 사용"
   ]
  },
  {
   "cell_type": "code",
   "execution_count": 2,
   "metadata": {},
   "outputs": [],
   "source": [
    "# (Approximate) Price to yield calcs, and pvbp, for later use. Note we use clean price here.\n",
    "def price_to_yield(p, ttm, coupon):\n",
    "    \"\"\"\n",
    "    채권의 가격을 수익률로 변환\n",
    "    - p: 채권의 가격 (clean price, 즉 누적 이자를 제외한 가격)\n",
    "    - ttm: 만기까지 남은 기간 (time to maturity, 연 단위)\n",
    "    - coupon: 연간 이자 지급액 (coupon rate, 퍼센트 단위)\n",
    "    \"\"\"\n",
    "    return (coupon + (100.0 - p) / ttm) / ((100.0 + p) / 2.0) * 100\n",
    "\n",
    "\n",
    "def yield_to_price(y, ttm, coupon):\n",
    "    \"\"\"\n",
    "    채권의 수익률을 가격으로\n",
    "    - y: 채권의 수익률 (yield, 퍼센트 단위)\n",
    "    - ttm: 만기까지 남은 기간 (time to maturity, 연 단위)\n",
    "    - coupon: 연간 이자 지급액 (coupon rate, 퍼센트 단위)\n",
    "    \"\"\"\n",
    "    return (coupon + 100 / ttm - 0.5 * y) / (y / 200 + 1 / ttm)\n",
    "\n",
    "\n",
    "def pvbp(y, ttm, coupon):\n",
    "    \"\"\"\n",
    "    채권의 PVBP(Present Value of a Basis Point) 계산\n",
    "    - y: 채권의 수익률 (yield, 퍼센트 단위)\n",
    "    - ttm: 만기까지 남은 기간 (time to maturity, 연 단위)\n",
    "    - coupon: 연간 이자 지급액 (coupon rate, 퍼센트 단위)\n",
    "    \"\"\"\n",
    "    return yield_to_price(y + 0.01, ttm, coupon) - yield_to_price(y, ttm, coupon)"
   ]
  },
  {
   "cell_type": "code",
   "execution_count": 3,
   "metadata": {},
   "outputs": [],
   "source": [
    "# Utility function to set data frame values to nan before the security has been issued or after it has matured\n",
    "def censor(data: pd.DataFrame, ref_data):\n",
    "    for bond in data:\n",
    "        data.loc[\n",
    "            (data.index > ref_data[\"mat_date\"][bond])\n",
    "            | (data.index < ref_data[\"issue_date\"][bond]),\n",
    "            bond,\n",
    "        ] = np.NaN\n",
    "    return data.ffill(\n",
    "        limit=1, axis=0\n",
    "    )  # Because bonds might mature during a gap in the index (i.e. on the weekend)"
   ]
  },
  {
   "cell_type": "code",
   "execution_count": 4,
   "metadata": {},
   "outputs": [],
   "source": [
    "# Backtesting timeline setup\n",
    "start_date = pd.Timestamp(\"2020-01-01\")\n",
    "end_date = pd.Timestamp(\"2022-01-01\")\n",
    "timeline = pd.date_range(start_date, end_date, freq=\"B\")"
   ]
  },
  {
   "cell_type": "code",
   "execution_count": 5,
   "metadata": {},
   "outputs": [],
   "source": [
    "# Government Bonds: Create synthetic data for a single series of rolling government bonds\n",
    "\n",
    "# Reference Data\n",
    "roll_freq = \"Q\"\n",
    "maturity = 10\n",
    "coupon = 2.0\n",
    "roll_dates = pd.date_range(\n",
    "    start_date, end_date + to_offset(roll_freq), freq=roll_freq\n",
    ")  # Go one period beyond the end date to be safe\n",
    "issue_dates = roll_dates - roll_dates.freq\n",
    "mat_dates = issue_dates + pd.offsets.DateOffset(years=maturity)\n",
    "series_name = \"govt_10Y\"\n",
    "names = pd.Series(mat_dates).apply(lambda x: \"govt_%s\" % x.strftime(\"%Y_%m\"))\n",
    "# Build a time series of OTR\n",
    "govt_otr = pd.DataFrame(\n",
    "    [\n",
    "        [name for name, roll_date in zip(names, roll_dates) if roll_date >= d][0]\n",
    "        for d in timeline\n",
    "    ],\n",
    "    index=timeline,\n",
    "    columns=[series_name],\n",
    ")\n",
    "# Create a data frame of reference data\n",
    "govt_data = pd.DataFrame(\n",
    "    {\"mat_date\": mat_dates, \"issue_date\": issue_dates, \"roll_date\": roll_dates},\n",
    "    index=names,\n",
    ")\n",
    "govt_data[\"coupon\"] = coupon\n",
    "\n",
    "# Create the \"roll map\"\n",
    "govt_roll_map = govt_otr.copy()\n",
    "govt_roll_map[\"target\"] = govt_otr[series_name].shift(-1)\n",
    "govt_roll_map = govt_roll_map[govt_roll_map[series_name] != govt_roll_map[\"target\"]]\n",
    "govt_roll_map[\"factor\"] = 1.0\n",
    "govt_roll_map = (\n",
    "    govt_roll_map.reset_index()\n",
    "    .set_index(series_name)\n",
    "    .rename(columns={\"index\": \"date\"})\n",
    "    .dropna()\n",
    ")\n",
    "\n",
    "# Market Data and Risk\n",
    "govt_yield_initial = 2.0\n",
    "govt_yield_vol = 1.0\n",
    "govt_yield = pd.DataFrame(columns=govt_data.index, index=timeline)\n",
    "govt_yield_ts = (\n",
    "    govt_yield_initial\n",
    "    + np.cumsum(np.random.normal(0.0, govt_yield_vol / np.sqrt(252), len(timeline)))\n",
    ").reshape(-1, 1)\n",
    "govt_yield.loc[:, :] = govt_yield_ts\n",
    "\n",
    "govt_mat = pd.DataFrame(columns=govt_data.index, index=timeline, data=pd.NA).astype(\n",
    "    \"datetime64[ns]\"\n",
    ")\n",
    "govt_mat.loc[:, :] = govt_data[\"mat_date\"].values.T\n",
    "govt_ttm = (govt_mat - timeline.values.reshape(-1, 1)) / pd.Timedelta(days=365)\n",
    "govt_coupon = pd.DataFrame(columns=govt_data.index, index=timeline)\n",
    "govt_coupon.loc[:, :] = govt_data[\"coupon\"].values.T\n",
    "govt_accrued = govt_coupon.multiply(\n",
    "    timeline.to_series().diff() / pd.Timedelta(days=365), axis=0\n",
    ")\n",
    "govt_accrued.iloc[0] = 0\n",
    "\n",
    "govt_price = yield_to_price(govt_yield, govt_ttm, govt_coupon)\n",
    "govt_price[govt_ttm <= 0] = 100.0\n",
    "govt_price = censor(govt_price, govt_data)\n",
    "govt_pvbp = pvbp(govt_yield, govt_ttm, govt_coupon)\n",
    "govt_pvbp[govt_ttm <= 0] = 0.0\n",
    "govt_pvbp = censor(govt_pvbp, govt_data)"
   ]
  },
  {
   "cell_type": "code",
   "execution_count": 6,
   "metadata": {},
   "outputs": [],
   "source": [
    "# Corporate Bonds: Create synthetic data for a universe of corporate bonds\n",
    "\n",
    "# Reference Data\n",
    "n_corp = 50    # Number of corporate bonds to generate\n",
    "avg_ttm = 10   # Average time to maturity, in years\n",
    "coupon_mean = 5\n",
    "coupon_std = 1.5\n",
    "mat_dates = start_date + np.random.exponential(avg_ttm*365, n_corp).astype(int) * pd.offsets.Day()\n",
    "issue_dates = np.minimum( mat_dates, end_date ) - np.random.exponential(avg_ttm*365, n_corp).astype(int) * pd.offsets.Day()\n",
    "names = pd.Series( [ 'corp{:04d}'.format(i) for i in range(n_corp)])\n",
    "coupons = np.random.normal( coupon_mean, coupon_std, n_corp ).round(3)\n",
    "corp_data = pd.DataFrame( {'mat_date':mat_dates, 'issue_date': issue_dates, 'coupon':coupons}, index=names)\n",
    "\n",
    "# Market Data and Risk\n",
    "# Model: corporate yield = government yield + credit spread\n",
    "# Model: credit spread changes = beta * common factor changes + idiosyncratic changes\n",
    "corp_spread_initial = np.random.normal( 2, 1, len(corp_data) )\n",
    "corp_betas_raw = np.random.normal( 1, 0.5, len(corp_data) )\n",
    "corp_factor_vol = 0.5\n",
    "corp_idio_vol = 0.5\n",
    "corp_factor_ts = np.cumsum( np.random.normal( 0, corp_factor_vol/np.sqrt(252), len(timeline))).reshape(-1,1)\n",
    "corp_idio_ts = np.cumsum( np.random.normal( 0, corp_idio_vol/np.sqrt(252), len(timeline))).reshape(-1,1)\n",
    "corp_spread = corp_spread_initial + np.multiply( corp_factor_ts, corp_betas_raw ) + corp_idio_ts\n",
    "corp_yield = govt_yield_ts + corp_spread\n",
    "corp_yield = pd.DataFrame(  columns = corp_data.index, index=timeline, data = corp_yield )\n",
    "\n",
    "corp_mat = pd.DataFrame( columns = corp_data.index, index=timeline, data=start_date )\n",
    "corp_mat.loc[:,:] = corp_data['mat_date'].values.T\n",
    "corp_ttm = (corp_mat - timeline.values.reshape(-1,1))/pd.Timedelta(days=365)\n",
    "corp_coupon = pd.DataFrame( columns = corp_data.index, index=timeline )\n",
    "corp_coupon.loc[:,:] = corp_data['coupon'].values.T\n",
    "corp_accrued = corp_coupon.multiply( timeline.to_series().diff()/pd.Timedelta(days=365), axis=0 )\n",
    "corp_accrued.iloc[0] = 0\n",
    "\n",
    "corp_price = yield_to_price( corp_yield, corp_ttm, corp_coupon )\n",
    "corp_price[ corp_ttm <= 0 ] = 100.\n",
    "corp_price = censor(corp_price, corp_data)\n",
    "\n",
    "corp_pvbp = pvbp( corp_yield, corp_ttm, corp_coupon)\n",
    "corp_pvbp[ corp_ttm <= 0 ] = 0.\n",
    "corp_pvbp = censor(corp_pvbp, corp_data)\n",
    "\n",
    "bidoffer_bps = 5.\n",
    "corp_bidoffer = -bidoffer_bps * corp_pvbp\n",
    "\n",
    "corp_betas = pd.DataFrame( columns = corp_data.index, index=timeline )\n",
    "corp_betas.loc[:,:] = corp_betas_raw\n",
    "corp_betas = censor(corp_betas, corp_data)"
   ]
  },
  {
   "cell_type": "code",
   "execution_count": 7,
   "metadata": {},
   "outputs": [
    {
     "data": {
      "text/plain": [
       "'govt_10Y'"
      ]
     },
     "execution_count": 7,
     "metadata": {},
     "output_type": "execute_result"
    }
   ],
   "source": [
    "series_name"
   ]
  },
  {
   "cell_type": "markdown",
   "metadata": {},
   "source": [
    "### Basic Strategies"
   ]
  },
  {
   "cell_type": "code",
   "execution_count": 8,
   "metadata": {},
   "outputs": [],
   "source": [
    "from bt.algos import (\n",
    "    AlgoStack,\n",
    "    RunWeekly,\n",
    "    RunMonthly,\n",
    "    UpdateRisk,\n",
    "    ClosePositionsAfterDates,\n",
    "    RollPositionsAfterDates,\n",
    "    ResolveOnTheRun,\n",
    "    SelectThese,\n",
    "    HedgeRisks,\n",
    "    Or,\n",
    "    PrintInfo,\n",
    "    PrintRisk,\n",
    "    SelectAll,\n",
    "    SelectActive,\n",
    "    SelectRegex,\n",
    "    WeighEqually,\n",
    "    SetNotional,\n",
    "    Rebalance,\n",
    ")\n",
    "\n",
    "# 만기 날짜 후 포지션 종료 및 롤링을 처리. 만기 날짜가 도달하면 해당 채권 포지션을 닫고 새로운 채권으로 롤링한다.\n",
    "lifecycle_stack = AlgoStack(\n",
    "    ClosePositionsAfterDates(\"maturity\"), RollPositionsAfterDates(\"govt_roll_map\")\n",
    ")\n",
    "\n",
    "# 주요 리스크 메트릭인 PVBP(Present Value of a Basis Point)와 베타(Beta)를 업데이트한다. 주간 또는 월간으로 업데이트\n",
    "risk_stack = AlgoStack(\n",
    "    Or([RunWeekly(), RunMonthly()]),\n",
    "    UpdateRisk(\"pvbp\", history=1),\n",
    "    UpdateRisk(\"beta\", history=1),\n",
    ")\n",
    "\n",
    "hedging_stack = AlgoStack(\n",
    "    RunMonthly(),\n",
    "    SelectThese([series_name], include_no_data=True),\n",
    "    ResolveOnTheRun(\"govt_otr\"), # \"On-the-Run 채권\"은 가장 최근에 발행된 채권을 뜻한다.\n",
    "    HedgeRisks([\"pvbp\"]),\n",
    "    UpdateRisk(\"pvbp\", history=True),\n",
    ")\n",
    "\n",
    "debug_stack = bt.core.AlgoStack(\n",
    "    # Specify how frequently to display debug info\n",
    "    RunMonthly(),\n",
    "    PrintInfo(\n",
    "        \"Strategy {name} : {now}.\\tNotional:  {_notl_value:0.0f},\\t Value: {_value:0.0f},\\t Price: {_price:0.4f}\"\n",
    "    ),\n",
    "    PrintRisk(\"Risk: \\tPVBP: {pvbp:0.0f},\\t Beta: {beta:0.0f}\"),\n",
    ")\n",
    "\n",
    "#  실제 거래를 실행하는 스택\n",
    "trading_stack = AlgoStack(\n",
    "    RunMonthly(),\n",
    "    SelectAll(),\n",
    "    SelectActive(),\n",
    "    SelectRegex(\"corp\"),\n",
    "    WeighEqually(),\n",
    "    SetNotional(\"notional_value\"), # 포트폴리오의 특정 자산에 대한 목표 잔액을 설정\n",
    "    Rebalance(),\n",
    ")"
   ]
  },
  {
   "cell_type": "code",
   "execution_count": 9,
   "metadata": {},
   "outputs": [
    {
     "data": {
      "text/html": [
       "<div>\n",
       "<style scoped>\n",
       "    .dataframe tbody tr th:only-of-type {\n",
       "        vertical-align: middle;\n",
       "    }\n",
       "\n",
       "    .dataframe tbody tr th {\n",
       "        vertical-align: top;\n",
       "    }\n",
       "\n",
       "    .dataframe thead th {\n",
       "        text-align: right;\n",
       "    }\n",
       "</style>\n",
       "<table border=\"1\" class=\"dataframe\">\n",
       "  <thead>\n",
       "    <tr style=\"text-align: right;\">\n",
       "      <th></th>\n",
       "      <th>mat_date</th>\n",
       "      <th>issue_date</th>\n",
       "      <th>roll_date</th>\n",
       "      <th>coupon</th>\n",
       "    </tr>\n",
       "  </thead>\n",
       "  <tbody>\n",
       "    <tr>\n",
       "      <th>govt_2029_12</th>\n",
       "      <td>2029-12-31</td>\n",
       "      <td>2019-12-31</td>\n",
       "      <td>2020-03-31</td>\n",
       "      <td>2.0</td>\n",
       "    </tr>\n",
       "    <tr>\n",
       "      <th>govt_2030_03</th>\n",
       "      <td>2030-03-31</td>\n",
       "      <td>2020-03-31</td>\n",
       "      <td>2020-06-30</td>\n",
       "      <td>2.0</td>\n",
       "    </tr>\n",
       "    <tr>\n",
       "      <th>govt_2030_06</th>\n",
       "      <td>2030-06-30</td>\n",
       "      <td>2020-06-30</td>\n",
       "      <td>2020-09-30</td>\n",
       "      <td>2.0</td>\n",
       "    </tr>\n",
       "    <tr>\n",
       "      <th>govt_2030_09</th>\n",
       "      <td>2030-09-30</td>\n",
       "      <td>2020-09-30</td>\n",
       "      <td>2020-12-31</td>\n",
       "      <td>2.0</td>\n",
       "    </tr>\n",
       "    <tr>\n",
       "      <th>govt_2030_12</th>\n",
       "      <td>2030-12-31</td>\n",
       "      <td>2020-12-31</td>\n",
       "      <td>2021-03-31</td>\n",
       "      <td>2.0</td>\n",
       "    </tr>\n",
       "    <tr>\n",
       "      <th>govt_2031_03</th>\n",
       "      <td>2031-03-31</td>\n",
       "      <td>2021-03-31</td>\n",
       "      <td>2021-06-30</td>\n",
       "      <td>2.0</td>\n",
       "    </tr>\n",
       "    <tr>\n",
       "      <th>govt_2031_06</th>\n",
       "      <td>2031-06-30</td>\n",
       "      <td>2021-06-30</td>\n",
       "      <td>2021-09-30</td>\n",
       "      <td>2.0</td>\n",
       "    </tr>\n",
       "    <tr>\n",
       "      <th>govt_2031_09</th>\n",
       "      <td>2031-09-30</td>\n",
       "      <td>2021-09-30</td>\n",
       "      <td>2021-12-31</td>\n",
       "      <td>2.0</td>\n",
       "    </tr>\n",
       "    <tr>\n",
       "      <th>govt_2031_12</th>\n",
       "      <td>2031-12-31</td>\n",
       "      <td>2021-12-31</td>\n",
       "      <td>2022-03-31</td>\n",
       "      <td>2.0</td>\n",
       "    </tr>\n",
       "  </tbody>\n",
       "</table>\n",
       "</div>"
      ],
      "text/plain": [
       "               mat_date issue_date  roll_date  coupon\n",
       "govt_2029_12 2029-12-31 2019-12-31 2020-03-31     2.0\n",
       "govt_2030_03 2030-03-31 2020-03-31 2020-06-30     2.0\n",
       "govt_2030_06 2030-06-30 2020-06-30 2020-09-30     2.0\n",
       "govt_2030_09 2030-09-30 2020-09-30 2020-12-31     2.0\n",
       "govt_2030_12 2030-12-31 2020-12-31 2021-03-31     2.0\n",
       "govt_2031_03 2031-03-31 2021-03-31 2021-06-30     2.0\n",
       "govt_2031_06 2031-06-30 2021-06-30 2021-09-30     2.0\n",
       "govt_2031_09 2031-09-30 2021-09-30 2021-12-31     2.0\n",
       "govt_2031_12 2031-12-31 2021-12-31 2022-03-31     2.0"
      ]
     },
     "execution_count": 9,
     "metadata": {},
     "output_type": "execute_result"
    }
   ],
   "source": [
    "govt_data"
   ]
  },
  {
   "cell_type": "code",
   "execution_count": 10,
   "metadata": {},
   "outputs": [],
   "source": [
    "govt_securities = [bt.CouponPayingHedgeSecurity(name) for name in govt_data.index]\n",
    "corp_securities = [bt.CouponPayingSecurity( name ) for name in corp_data.index]\n",
    "securities = govt_securities + corp_securities"
   ]
  },
  {
   "cell_type": "code",
   "execution_count": 11,
   "metadata": {},
   "outputs": [],
   "source": [
    "base_strategy = bt.FixedIncomeStrategy(\n",
    "    \"BaseStrategy\",\n",
    "    algos=[lifecycle_stack, Or([trading_stack, risk_stack, debug_stack])],\n",
    "    children=securities,\n",
    ")"
   ]
  },
  {
   "cell_type": "code",
   "execution_count": 12,
   "metadata": {},
   "outputs": [],
   "source": [
    "hedged_strategy = bt.FixedIncomeStrategy(\n",
    "    \"HedgedStrategy\",\n",
    "    algos=[\n",
    "        lifecycle_stack,\n",
    "        Or([trading_stack, risk_stack, hedging_stack, debug_stack]),\n",
    "    ],\n",
    "    children=securities,\n",
    ")"
   ]
  },
  {
   "cell_type": "code",
   "execution_count": 13,
   "metadata": {},
   "outputs": [
    {
     "name": "stdout",
     "output_type": "stream",
     "text": [
      "Strategy BaseStrategy : 2020-01-01 00:00:00.\tNotional:  1000000,\t Value: -1645,\t Price: 99.8355\n",
      "Risk: \tPVBP: -658,\t Beta: -660\n",
      "Strategy BaseStrategy : 2020-02-03 00:00:00.\tNotional:  1000000,\t Value: -6457,\t Price: 99.3543\n",
      "Risk: \tPVBP: -642,\t Beta: -644\n",
      "Strategy BaseStrategy : 2020-03-02 00:00:00.\tNotional:  1000000,\t Value: -26501,\t Price: 97.3499\n",
      "Risk: \tPVBP: -611,\t Beta: -613\n",
      "Strategy BaseStrategy : 2020-04-01 00:00:00.\tNotional:  1000000,\t Value: -20304,\t Price: 97.9696\n",
      "Risk: \tPVBP: -607,\t Beta: -608\n",
      "Strategy BaseStrategy : 2020-05-01 00:00:00.\tNotional:  1000000,\t Value: -43712,\t Price: 95.6288\n",
      "Risk: \tPVBP: -574,\t Beta: -574\n",
      "Strategy BaseStrategy : 2020-06-01 00:00:00.\tNotional:  1000000,\t Value: -41113,\t Price: 95.8887\n",
      "Risk: \tPVBP: -566,\t Beta: -566\n",
      "Strategy BaseStrategy : 2020-07-01 00:00:00.\tNotional:  1000000,\t Value: -15728,\t Price: 98.4981\n",
      "Risk: \tPVBP: -610,\t Beta: -608\n",
      "Strategy BaseStrategy : 2020-08-03 00:00:00.\tNotional:  1000000,\t Value: -22316,\t Price: 97.8393\n",
      "Risk: \tPVBP: -588,\t Beta: -594\n",
      "Strategy BaseStrategy : 2020-09-01 00:00:00.\tNotional:  1000000,\t Value: 12843,\t Price: 101.4275\n",
      "Risk: \tPVBP: -644,\t Beta: -650\n",
      "Strategy BaseStrategy : 2020-10-01 00:00:00.\tNotional:  1000000,\t Value: 35286,\t Price: 103.6989\n",
      "Risk: \tPVBP: -683,\t Beta: -680\n",
      "Strategy BaseStrategy : 2020-11-02 00:00:00.\tNotional:  1000000,\t Value: 3709,\t Price: 100.5412\n",
      "Risk: \tPVBP: -638,\t Beta: -646\n",
      "Strategy BaseStrategy : 2020-12-01 00:00:00.\tNotional:  1000000,\t Value: -18537,\t Price: 98.3166\n",
      "Risk: \tPVBP: -606,\t Beta: -613\n",
      "Strategy BaseStrategy : 2021-01-01 00:00:00.\tNotional:  1000000,\t Value: -11053,\t Price: 99.0650\n",
      "Risk: \tPVBP: -603,\t Beta: -610\n",
      "Strategy BaseStrategy : 2021-02-01 00:00:00.\tNotional:  1000000,\t Value: -16424,\t Price: 98.5538\n",
      "Risk: \tPVBP: -602,\t Beta: -609\n",
      "Strategy BaseStrategy : 2021-03-01 00:00:00.\tNotional:  1000000,\t Value: -34470,\t Price: 96.6935\n",
      "Risk: \tPVBP: -603,\t Beta: -587\n",
      "Strategy BaseStrategy : 2021-04-01 00:00:00.\tNotional:  1000000,\t Value: -23535,\t Price: 97.7870\n",
      "Risk: \tPVBP: -604,\t Beta: -586\n",
      "Strategy BaseStrategy : 2021-05-03 00:00:00.\tNotional:  1000000,\t Value: -27027,\t Price: 97.4379\n",
      "Risk: \tPVBP: -590,\t Beta: -574\n",
      "Strategy BaseStrategy : 2021-06-01 00:00:00.\tNotional:  1000000,\t Value: -50736,\t Price: 95.0669\n",
      "Risk: \tPVBP: -558,\t Beta: -542\n",
      "Strategy BaseStrategy : 2021-07-01 00:00:00.\tNotional:  1000000,\t Value: -52728,\t Price: 94.8678\n",
      "Risk: \tPVBP: -547,\t Beta: -528\n",
      "Strategy BaseStrategy : 2021-08-02 00:00:00.\tNotional:  1000000,\t Value: -53052,\t Price: 94.8055\n",
      "Risk: \tPVBP: -550,\t Beta: -532\n",
      "Strategy BaseStrategy : 2021-09-01 00:00:00.\tNotional:  1000000,\t Value: -39032,\t Price: 96.2074\n",
      "Risk: \tPVBP: -550,\t Beta: -524\n",
      "Strategy BaseStrategy : 2021-10-01 00:00:00.\tNotional:  1000000,\t Value: -2039,\t Price: 99.9015\n",
      "Risk: \tPVBP: -589,\t Beta: -562\n",
      "Strategy BaseStrategy : 2021-11-01 00:00:00.\tNotional:  1000000,\t Value: -8606,\t Price: 99.2449\n",
      "Risk: \tPVBP: -573,\t Beta: -544\n",
      "Strategy BaseStrategy : 2021-12-01 00:00:00.\tNotional:  1000000,\t Value: 53560,\t Price: 105.6581\n",
      "Risk: \tPVBP: -656,\t Beta: -623\n",
      "Strategy HedgedStrategy : 2020-01-01 00:00:00.\tNotional:  1000000,\t Value: -1645,\t Price: 99.8355\n",
      "Risk: \tPVBP: 0,\t Beta: -660\n",
      "Strategy HedgedStrategy : 2020-02-03 00:00:00.\tNotional:  1000000,\t Value: -11001,\t Price: 98.8999\n",
      "Risk: \tPVBP: -0,\t Beta: -644\n",
      "Strategy HedgedStrategy : 2020-03-02 00:00:00.\tNotional:  1000000,\t Value: -16773,\t Price: 98.3227\n",
      "Risk: \tPVBP: -0,\t Beta: -613\n",
      "Strategy HedgedStrategy : 2020-04-01 00:00:00.\tNotional:  1000000,\t Value: -21659,\t Price: 97.8341\n",
      "Risk: \tPVBP: -0,\t Beta: -608\n",
      "Strategy HedgedStrategy : 2020-05-01 00:00:00.\tNotional:  1000000,\t Value: -33414,\t Price: 96.6586\n",
      "Risk: \tPVBP: -0,\t Beta: -574\n",
      "Strategy HedgedStrategy : 2020-06-01 00:00:00.\tNotional:  1000000,\t Value: -22937,\t Price: 97.7063\n",
      "Risk: \tPVBP: 0,\t Beta: -566\n",
      "Strategy HedgedStrategy : 2020-07-01 00:00:00.\tNotional:  1000000,\t Value: -14970,\t Price: 98.5361\n",
      "Risk: \tPVBP: -0,\t Beta: -608\n",
      "Strategy HedgedStrategy : 2020-08-03 00:00:00.\tNotional:  1000000,\t Value: 5098,\t Price: 100.5429\n",
      "Risk: \tPVBP: 0,\t Beta: -594\n",
      "Strategy HedgedStrategy : 2020-09-01 00:00:00.\tNotional:  1000000,\t Value: 22292,\t Price: 102.2843\n",
      "Risk: \tPVBP: -0,\t Beta: -650\n",
      "Strategy HedgedStrategy : 2020-10-01 00:00:00.\tNotional:  1000000,\t Value: 13914,\t Price: 101.4297\n",
      "Risk: \tPVBP: 0,\t Beta: -680\n",
      "Strategy HedgedStrategy : 2020-11-02 00:00:00.\tNotional:  1000000,\t Value: 12091,\t Price: 101.2474\n",
      "Risk: \tPVBP: 0,\t Beta: -646\n",
      "Strategy HedgedStrategy : 2020-12-01 00:00:00.\tNotional:  1000000,\t Value: 10542,\t Price: 101.0925\n",
      "Risk: \tPVBP: -0,\t Beta: -613\n",
      "Strategy HedgedStrategy : 2021-01-01 00:00:00.\tNotional:  1000000,\t Value: 12156,\t Price: 101.2539\n",
      "Risk: \tPVBP: 0,\t Beta: -610\n",
      "Strategy HedgedStrategy : 2021-02-01 00:00:00.\tNotional:  1000000,\t Value: 15917,\t Price: 101.6483\n",
      "Risk: \tPVBP: -0,\t Beta: -609\n",
      "Strategy HedgedStrategy : 2021-03-01 00:00:00.\tNotional:  1000000,\t Value: 11970,\t Price: 101.2217\n",
      "Risk: \tPVBP: -0,\t Beta: -587\n",
      "Strategy HedgedStrategy : 2021-04-01 00:00:00.\tNotional:  1000000,\t Value: 28191,\t Price: 102.8438\n",
      "Risk: \tPVBP: 0,\t Beta: -586\n",
      "Strategy HedgedStrategy : 2021-05-03 00:00:00.\tNotional:  1000000,\t Value: 34585,\t Price: 103.4832\n",
      "Risk: \tPVBP: 0,\t Beta: -574\n",
      "Strategy HedgedStrategy : 2021-06-01 00:00:00.\tNotional:  1000000,\t Value: 29256,\t Price: 102.9502\n",
      "Risk: \tPVBP: -0,\t Beta: -542\n",
      "Strategy HedgedStrategy : 2021-07-01 00:00:00.\tNotional:  1000000,\t Value: 10338,\t Price: 101.0584\n",
      "Risk: \tPVBP: 0,\t Beta: -528\n",
      "Strategy HedgedStrategy : 2021-08-02 00:00:00.\tNotional:  1000000,\t Value: 14557,\t Price: 101.4663\n",
      "Risk: \tPVBP: 0,\t Beta: -532\n",
      "Strategy HedgedStrategy : 2021-09-01 00:00:00.\tNotional:  1000000,\t Value: 10771,\t Price: 101.0877\n",
      "Risk: \tPVBP: 0,\t Beta: -524\n",
      "Strategy HedgedStrategy : 2021-10-01 00:00:00.\tNotional:  1000000,\t Value: 32530,\t Price: 103.2542\n",
      "Risk: \tPVBP: 0,\t Beta: -562\n",
      "Strategy HedgedStrategy : 2021-11-01 00:00:00.\tNotional:  1000000,\t Value: 24530,\t Price: 102.4543\n",
      "Risk: \tPVBP: 0,\t Beta: -544\n",
      "Strategy HedgedStrategy : 2021-12-01 00:00:00.\tNotional:  1000000,\t Value: 42127,\t Price: 104.2939\n",
      "Risk: \tPVBP: 0,\t Beta: -623\n"
     ]
    }
   ],
   "source": [
    "data = (\n",
    "    pd.concat([govt_price, corp_price], axis=1) / 100.0\n",
    ")  # Because we need prices per unit notional\n",
    "additional_data = {\n",
    "    \"coupons\": pd.concat([govt_accrued, corp_accrued], axis=1) / 100.0,\n",
    "    \"bidoffer\": corp_bidoffer / 100.0,\n",
    "    \"notional_value\": pd.Series(data=1e6, index=data.index),\n",
    "    \"maturity\": pd.concat([govt_data, corp_data], axis=0).rename(\n",
    "        columns={\"mat_date\": \"date\"}\n",
    "    ),\n",
    "    \"govt_roll_map\": govt_roll_map,\n",
    "    \"govt_otr\": govt_otr,\n",
    "    \"unit_risk\": {\n",
    "        \"pvbp\": pd.concat([govt_pvbp, corp_pvbp], axis=1) / 100.0,\n",
    "        \"beta\": corp_betas * corp_pvbp / 100.0,\n",
    "    },\n",
    "}\n",
    "base_test = bt.Backtest(\n",
    "    base_strategy,\n",
    "    data,\n",
    "    \"BaseBacktest\",\n",
    "    initial_capital=0,\n",
    "    additional_data=additional_data,\n",
    ")\n",
    "hedge_test = bt.Backtest(\n",
    "    hedged_strategy,\n",
    "    data,\n",
    "    \"HedgedBacktest\",\n",
    "    initial_capital=0,\n",
    "    additional_data=additional_data,\n",
    ")\n",
    "out: bt.backtest.Result = bt.run(base_test, hedge_test)"
   ]
  },
  {
   "cell_type": "code",
   "execution_count": 14,
   "metadata": {},
   "outputs": [
    {
     "name": "stdout",
     "output_type": "stream",
     "text": [
      "Stats for BaseBacktest from 2019-12-31 00:00:00 - 2021-12-31 00:00:00\n",
      "Annual risk-free rate considered: 0.00%\n",
      "Summary:\n",
      "Total Return      Sharpe  CAGR    Max Drawdown\n",
      "--------------  --------  ------  --------------\n",
      "2.35%               0.19  1.17%   -10.65%\n",
      "\n",
      "Annualized Returns:\n",
      "mtd     3m     6m     ytd    1y     3y     5y    10y    incep.\n",
      "------  -----  -----  -----  -----  -----  ----  -----  --------\n",
      "-3.06%  1.46%  8.12%  3.43%  3.43%  1.17%  -     -      1.17%\n",
      "\n",
      "Periodic:\n",
      "        daily    monthly    yearly\n",
      "------  -------  ---------  --------\n",
      "sharpe  0.19     0.18       0.38\n",
      "mean    1.38%    1.49%      1.19%\n",
      "vol     7.26%    8.35%      3.17%\n",
      "skew    0.16     0.75       -\n",
      "kurt    0.52     0.70       -\n",
      "best    1.59%    6.32%      3.43%\n",
      "worst   -1.44%   -3.29%     -1.05%\n",
      "\n",
      "Drawdowns:\n",
      "max      avg       # days\n",
      "-------  ------  --------\n",
      "-10.65%  -2.60%     79.22\n",
      "\n",
      "Misc:\n",
      "---------------  ------\n",
      "avg. up month    1.88%\n",
      "avg. down month  -1.63%\n",
      "up year %        50.00%\n",
      "12m up %         57.14%\n",
      "---------------  ------\n"
     ]
    }
   ],
   "source": [
    "stats = out['BaseBacktest']\n",
    "stats.display()"
   ]
  },
  {
   "cell_type": "code",
   "execution_count": 16,
   "metadata": {},
   "outputs": [
    {
     "name": "stdout",
     "output_type": "stream",
     "text": [
      "Stats for HedgedBacktest from 2019-12-31 00:00:00 - 2021-12-31 00:00:00\n",
      "Annual risk-free rate considered: 0.00%\n",
      "Summary:\n",
      "Total Return      Sharpe  CAGR    Max Drawdown\n",
      "--------------  --------  ------  --------------\n",
      "3.51%               0.41  1.74%   -3.87%\n",
      "\n",
      "Annualized Returns:\n",
      "mtd     3m      6m     ytd    1y     3y     5y    10y    incep.\n",
      "------  ------  -----  -----  -----  -----  ----  -----  --------\n",
      "-0.47%  -0.30%  2.29%  2.47%  2.47%  1.74%  -     -      1.74%\n",
      "\n",
      "Periodic:\n",
      "        daily    monthly    yearly\n",
      "------  -------  ---------  --------\n",
      "sharpe  0.41     0.43       1.71\n",
      "mean    1.75%    1.81%      1.74%\n",
      "vol     4.26%    4.22%      1.02%\n",
      "skew    -0.17    0.67       -\n",
      "kurt    0.21     -0.46      -\n",
      "best    0.69%    2.82%      2.47%\n",
      "worst   -1.07%   -1.62%     1.02%\n",
      "\n",
      "Drawdowns:\n",
      "max     avg       # days\n",
      "------  ------  --------\n",
      "-3.87%  -1.02%     49.57\n",
      "\n",
      "Misc:\n",
      "---------------  -------\n",
      "avg. up month    1.25%\n",
      "avg. down month  -0.78%\n",
      "up year %        100.00%\n",
      "12m up %         85.71%\n",
      "---------------  -------\n"
     ]
    }
   ],
   "source": [
    "stats = out['HedgedBacktest']\n",
    "stats.display()"
   ]
  },
  {
   "cell_type": "code",
   "execution_count": 18,
   "metadata": {},
   "outputs": [
    {
     "data": {
      "text/plain": [
       "<Axes: >"
      ]
     },
     "execution_count": 18,
     "metadata": {},
     "output_type": "execute_result"
    },
    {
     "data": {
      "image/png": "[encoded data removed]",
      "text/plain": [
       "<Figure size 640x480 with 1 Axes>"
      ]
     },
     "metadata": {},
     "output_type": "display_data"
    }
   ],
   "source": [
    "# Total PNL time series values\n",
    "pd.DataFrame( {'base':base_test.strategy.values, 'hedged':hedge_test.strategy.values} ).plot()"
   ]
  },
  {
   "cell_type": "code",
   "execution_count": 19,
   "metadata": {},
   "outputs": [
    {
     "data": {
      "text/plain": [
       "<Axes: >"
      ]
     },
     "execution_count": 19,
     "metadata": {},
     "output_type": "execute_result"
    },
    {
     "data": {
      "image/png": "[encoded data removed]",
      "text/plain": [
       "<Figure size 640x480 with 1 Axes>"
      ]
     },
     "metadata": {},
     "output_type": "display_data"
    }
   ],
   "source": [
    "# Total risk time series values\n",
    "pd.DataFrame(\n",
    "    {\n",
    "        \"base_pvbp\": base_test.strategy.risks[\"pvbp\"],\n",
    "        \"hedged_pvbp\": hedge_test.strategy.risks[\"pvbp\"],\n",
    "        \"beta\": hedge_test.strategy.risks[\"beta\"],\n",
    "    }\n",
    ").dropna().plot()"
   ]
  },
  {
   "cell_type": "code",
   "execution_count": 20,
   "metadata": {},
   "outputs": [
    {
     "data": {
      "text/plain": [
       "<Axes: >"
      ]
     },
     "execution_count": 20,
     "metadata": {},
     "output_type": "execute_result"
    },
    {
     "data": {
      "image/png": "[encoded data removed]",
      "text/plain": [
       "<Figure size 640x480 with 1 Axes>"
      ]
     },
     "metadata": {},
     "output_type": "display_data"
    }
   ],
   "source": [
    "# Total bid/offer paid (same for both strategies)\n",
    "# 거래 비용\n",
    "pd.DataFrame(\n",
    "    {\n",
    "        \"base_pvbp\": base_test.strategy.bidoffers_paid,\n",
    "        \"hedged_pvbp\": hedge_test.strategy.bidoffers_paid,\n",
    "    }\n",
    ").cumsum().dropna().plot()"
   ]
  },
  {
   "cell_type": "code",
   "execution_count": null,
   "metadata": {},
   "outputs": [],
   "source": []
  }
 ],
 "metadata": {
  "kernelspec": {
   "display_name": "backtest-bt",
   "language": "python",
   "name": "python3"
  },
  "language_info": {
   "codemirror_mode": {
    "name": "ipython",
    "version": 3
   },
   "file_extension": ".py",
   "mimetype": "text/x-python",
   "name": "python",
   "nbconvert_exporter": "python",
   "pygments_lexer": "ipython3",
   "version": "3.11.9"
  }
 },
 "nbformat": 4,
 "nbformat_minor": 2
}
